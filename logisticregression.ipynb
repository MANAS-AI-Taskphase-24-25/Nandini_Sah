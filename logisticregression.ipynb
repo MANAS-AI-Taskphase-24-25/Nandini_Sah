{
 "cells": [
  {
   "cell_type": "code",
   "execution_count": 7,
   "metadata": {},
   "outputs": [],
   "source": [
    "import pandas as pd\n",
    "import numpy as np"
   ]
  },
  {
   "cell_type": "code",
   "execution_count": 9,
   "metadata": {},
   "outputs": [
    {
     "name": "stdout",
     "output_type": "stream",
     "text": [
      "   Unnamed: 0    Area  Perimeter  Major_Axis_Length  Minor_Axis_Length  \\\n",
      "0           0   84930   1204.448           508.7883           213.0266   \n",
      "1           1  103343   1275.261           521.4694           252.8941   \n",
      "2           2   98350   1269.539           526.2346           238.4702   \n",
      "3           3   69517   1059.538           429.8407           206.8250   \n",
      "4           4   80011   1182.947           501.9065           204.7531   \n",
      "\n",
      "   Convex_Area  Equiv_Diameter  Eccentricity  Solidity  Extent  Roundness  \\\n",
      "0        85665        328.8407        0.9081    0.9914  0.5482     0.7357   \n",
      "1       104156        362.7401        0.8745    0.9922  0.7457     0.7985   \n",
      "2        99184        353.8688        0.8914    0.9916  0.5919     0.7668   \n",
      "3        70493        297.5093        0.8766    0.9862  0.6623     0.7782   \n",
      "4        80902        319.1758        0.9130    0.9890  0.7374     0.7185   \n",
      "\n",
      "   Aspect_Ration  Compactness          Class  \n",
      "0         2.3884       0.6463  Ürgüp Sivrisi  \n",
      "1         2.0620       0.6956  Ürgüp Sivrisi  \n",
      "2         2.2067       0.6725  Ürgüp Sivrisi  \n",
      "3         2.0783       0.6921     Çerçevelik  \n",
      "4         2.4513       0.6359  Ürgüp Sivrisi  \n",
      "TEST DATA\n",
      "   Unnamed: 0   Area  Perimeter  Major_Axis_Length  Minor_Axis_Length  \\\n",
      "0           0  63011    961.163           371.5589           216.5940   \n",
      "1           1  75917   1069.411           420.2925           230.6208   \n",
      "2           2  75988   1091.948           447.6035           217.3051   \n",
      "3           3  85968   1168.743           479.1606           229.2326   \n",
      "4           4  85386   1138.193           438.2698           248.8453   \n",
      "\n",
      "   Convex_Area  Equiv_Diameter  Eccentricity  Solidity  Extent  Roundness  \\\n",
      "0        63511        283.2456        0.8125    0.9921  0.7301     0.8571   \n",
      "1        76613        310.9028        0.8360    0.9909  0.7132     0.8342   \n",
      "2        76566        311.0481        0.8742    0.9925  0.7079     0.8008   \n",
      "3        87008        330.8442        0.8781    0.9880  0.7495     0.7909   \n",
      "4        86282        329.7224        0.8232    0.9896  0.7093     0.8283   \n",
      "\n",
      "   Aspect_Ration  Compactness          Class  \n",
      "0         1.7155       0.7623     Çerçevelik  \n",
      "1         1.8224       0.7397     Çerçevelik  \n",
      "2         2.0598       0.6949  Ürgüp Sivrisi  \n",
      "3         2.0903       0.6905     Çerçevelik  \n",
      "4         1.7612       0.7523     Çerçevelik  \n"
     ]
    }
   ],
   "source": [
    "train_data = pd.read_csv(\"Gotem Pumpkins.csv\")\n",
    "test_data = pd.read_csv(\"Freyja_Pumpkins.csv\")\n",
    "\n",
    "print(train_data.head())\n",
    "print(\"TEST DATA\")\n",
    "print(test_data.head())"
   ]
  },
  {
   "cell_type": "markdown",
   "metadata": {},
   "source": [
    "## Extracting Features and Target Variable"
   ]
  },
  {
   "cell_type": "code",
   "execution_count": 10,
   "metadata": {},
   "outputs": [],
   "source": [
    "X_train = train_data.drop(columns='Class').values\n",
    "y_train = train_data['Class'].values\n",
    "\n",
    "X_test = test_data.drop(columns='Class').values\n",
    "y_test = test_data['Class'].values"
   ]
  },
  {
   "cell_type": "markdown",
   "metadata": {},
   "source": [
    "## Normalization"
   ]
  },
  {
   "cell_type": "code",
   "execution_count": 11,
   "metadata": {},
   "outputs": [],
   "source": [
    "X_train_min = X_train.min(axis=0)\n",
    "X_train_max = X_train.max(axis=0)\n",
    "\n",
    "X_train = (X_train - X_train_min) / (X_train_max - X_train_min)\n",
    "X_test = (X_test - X_train_min) / (X_train_max - X_train_min)"
   ]
  },
  {
   "cell_type": "code",
   "execution_count": null,
   "metadata": {},
   "outputs": [],
   "source": []
  }
 ],
 "metadata": {
  "kernelspec": {
   "display_name": "Python 3",
   "language": "python",
   "name": "python3"
  },
  "language_info": {
   "codemirror_mode": {
    "name": "ipython",
    "version": 3
   },
   "file_extension": ".py",
   "mimetype": "text/x-python",
   "name": "python",
   "nbconvert_exporter": "python",
   "pygments_lexer": "ipython3",
   "version": "3.10.12"
  }
 },
 "nbformat": 4,
 "nbformat_minor": 2
}

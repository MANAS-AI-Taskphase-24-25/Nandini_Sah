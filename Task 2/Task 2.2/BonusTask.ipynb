{
 "cells": [
  {
   "cell_type": "code",
   "execution_count": 20,
   "metadata": {},
   "outputs": [],
   "source": [
    "import numpy as np\n",
    "import pandas as pd\n",
    "import matplotlib as plt\n",
    "import seaborn as sns"
   ]
  },
  {
   "cell_type": "code",
   "execution_count": 21,
   "metadata": {},
   "outputs": [],
   "source": [
    "train_data = pd.read_csv(\"Seniors.csv\")\n",
    "test_data = pd.read_csv(\"Juniors.csv\")"
   ]
  },
  {
   "cell_type": "markdown",
   "metadata": {},
   "source": [
    "## Preprocessing the Data"
   ]
  },
  {
   "cell_type": "code",
   "execution_count": 22,
   "metadata": {},
   "outputs": [],
   "source": [
    "def preprocess(X):\n",
    "    \n",
    "    X = X.drop(['Unnamed: 0'],axis=1)\n",
    "    \n",
    "    return X"
   ]
  },
  {
   "cell_type": "code",
   "execution_count": 23,
   "metadata": {},
   "outputs": [],
   "source": [
    "train_data = preprocess(train_data)\n",
    "test_data = preprocess(test_data)"
   ]
  },
  {
   "cell_type": "markdown",
   "metadata": {},
   "source": [
    "## Visualization"
   ]
  },
  {
   "cell_type": "code",
   "execution_count": 24,
   "metadata": {},
   "outputs": [
    {
     "data": {
      "text/html": [
       "<div>\n",
       "<style scoped>\n",
       "    .dataframe tbody tr th:only-of-type {\n",
       "        vertical-align: middle;\n",
       "    }\n",
       "\n",
       "    .dataframe tbody tr th {\n",
       "        vertical-align: top;\n",
       "    }\n",
       "\n",
       "    .dataframe thead th {\n",
       "        text-align: right;\n",
       "    }\n",
       "</style>\n",
       "<table border=\"1\" class=\"dataframe\">\n",
       "  <thead>\n",
       "    <tr style=\"text-align: right;\">\n",
       "      <th></th>\n",
       "      <th>Temperature (°C)</th>\n",
       "      <th>Pressure (kPa)</th>\n",
       "      <th>Temperature x Pressure</th>\n",
       "      <th>Material Fusion Metric</th>\n",
       "      <th>Material Transformation Metric</th>\n",
       "      <th>Quality Rating</th>\n",
       "    </tr>\n",
       "  </thead>\n",
       "  <tbody>\n",
       "    <tr>\n",
       "      <th>Temperature (°C)</th>\n",
       "      <td>1.000000</td>\n",
       "      <td>-0.009883</td>\n",
       "      <td>0.585975</td>\n",
       "      <td>0.975767</td>\n",
       "      <td>0.970969</td>\n",
       "      <td>-0.470129</td>\n",
       "    </tr>\n",
       "    <tr>\n",
       "      <th>Pressure (kPa)</th>\n",
       "      <td>-0.009883</td>\n",
       "      <td>1.000000</td>\n",
       "      <td>0.771878</td>\n",
       "      <td>0.160815</td>\n",
       "      <td>-0.009420</td>\n",
       "      <td>0.016942</td>\n",
       "    </tr>\n",
       "    <tr>\n",
       "      <th>Temperature x Pressure</th>\n",
       "      <td>0.585975</td>\n",
       "      <td>0.771878</td>\n",
       "      <td>1.000000</td>\n",
       "      <td>0.703844</td>\n",
       "      <td>0.568807</td>\n",
       "      <td>-0.259878</td>\n",
       "    </tr>\n",
       "    <tr>\n",
       "      <th>Material Fusion Metric</th>\n",
       "      <td>0.975767</td>\n",
       "      <td>0.160815</td>\n",
       "      <td>0.703844</td>\n",
       "      <td>1.000000</td>\n",
       "      <td>0.977445</td>\n",
       "      <td>-0.519979</td>\n",
       "    </tr>\n",
       "    <tr>\n",
       "      <th>Material Transformation Metric</th>\n",
       "      <td>0.970969</td>\n",
       "      <td>-0.009420</td>\n",
       "      <td>0.568807</td>\n",
       "      <td>0.977445</td>\n",
       "      <td>1.000000</td>\n",
       "      <td>-0.585221</td>\n",
       "    </tr>\n",
       "    <tr>\n",
       "      <th>Quality Rating</th>\n",
       "      <td>-0.470129</td>\n",
       "      <td>0.016942</td>\n",
       "      <td>-0.259878</td>\n",
       "      <td>-0.519979</td>\n",
       "      <td>-0.585221</td>\n",
       "      <td>1.000000</td>\n",
       "    </tr>\n",
       "  </tbody>\n",
       "</table>\n",
       "</div>"
      ],
      "text/plain": [
       "                                Temperature (°C)  Pressure (kPa)  \\\n",
       "Temperature (°C)                        1.000000       -0.009883   \n",
       "Pressure (kPa)                         -0.009883        1.000000   \n",
       "Temperature x Pressure                  0.585975        0.771878   \n",
       "Material Fusion Metric                  0.975767        0.160815   \n",
       "Material Transformation Metric          0.970969       -0.009420   \n",
       "Quality Rating                         -0.470129        0.016942   \n",
       "\n",
       "                                Temperature x Pressure  \\\n",
       "Temperature (°C)                              0.585975   \n",
       "Pressure (kPa)                                0.771878   \n",
       "Temperature x Pressure                        1.000000   \n",
       "Material Fusion Metric                        0.703844   \n",
       "Material Transformation Metric                0.568807   \n",
       "Quality Rating                               -0.259878   \n",
       "\n",
       "                                Material Fusion Metric  \\\n",
       "Temperature (°C)                              0.975767   \n",
       "Pressure (kPa)                                0.160815   \n",
       "Temperature x Pressure                        0.703844   \n",
       "Material Fusion Metric                        1.000000   \n",
       "Material Transformation Metric                0.977445   \n",
       "Quality Rating                               -0.519979   \n",
       "\n",
       "                                Material Transformation Metric  Quality Rating  \n",
       "Temperature (°C)                                      0.970969       -0.470129  \n",
       "Pressure (kPa)                                       -0.009420        0.016942  \n",
       "Temperature x Pressure                                0.568807       -0.259878  \n",
       "Material Fusion Metric                                0.977445       -0.519979  \n",
       "Material Transformation Metric                        1.000000       -0.585221  \n",
       "Quality Rating                                       -0.585221        1.000000  "
      ]
     },
     "execution_count": 24,
     "metadata": {},
     "output_type": "execute_result"
    },
    {
     "data": {
      "image/png": "[encoded data removed]",
      "text/plain": [
       "<Figure size 640x480 with 2 Axes>"
      ]
     },
     "metadata": {},
     "output_type": "display_data"
    }
   ],
   "source": [
    "train_corr = train_data.select_dtypes(include=['float64','int64']).corr()\n",
    "sns.heatmap(train_corr)\n",
    "train_corr"
   ]
  },
  {
   "cell_type": "code",
   "execution_count": 28,
   "metadata": {},
   "outputs": [
    {
     "data": {
      "text/html": [
       "<div>\n",
       "<style scoped>\n",
       "    .dataframe tbody tr th:only-of-type {\n",
       "        vertical-align: middle;\n",
       "    }\n",
       "\n",
       "    .dataframe tbody tr th {\n",
       "        vertical-align: top;\n",
       "    }\n",
       "\n",
       "    .dataframe thead th {\n",
       "        text-align: right;\n",
       "    }\n",
       "</style>\n",
       "<table border=\"1\" class=\"dataframe\">\n",
       "  <thead>\n",
       "    <tr style=\"text-align: right;\">\n",
       "      <th></th>\n",
       "      <th>Temperature (°C)</th>\n",
       "      <th>Pressure (kPa)</th>\n",
       "      <th>Temperature x Pressure</th>\n",
       "      <th>Material Fusion Metric</th>\n",
       "      <th>Material Transformation Metric</th>\n",
       "    </tr>\n",
       "  </thead>\n",
       "  <tbody>\n",
       "    <tr>\n",
       "      <th>0</th>\n",
       "      <td>209.762701</td>\n",
       "      <td>8.050855</td>\n",
       "      <td>1688.769167</td>\n",
       "      <td>44522.217074</td>\n",
       "      <td>9.229576e+06</td>\n",
       "    </tr>\n",
       "    <tr>\n",
       "      <th>1</th>\n",
       "      <td>243.037873</td>\n",
       "      <td>15.812068</td>\n",
       "      <td>3842.931469</td>\n",
       "      <td>63020.764997</td>\n",
       "      <td>1.435537e+07</td>\n",
       "    </tr>\n",
       "    <tr>\n",
       "      <th>2</th>\n",
       "      <td>220.552675</td>\n",
       "      <td>7.843130</td>\n",
       "      <td>1729.823314</td>\n",
       "      <td>49125.950249</td>\n",
       "      <td>1.072839e+07</td>\n",
       "    </tr>\n",
       "    <tr>\n",
       "      <th>3</th>\n",
       "      <td>208.976637</td>\n",
       "      <td>23.786089</td>\n",
       "      <td>4970.736918</td>\n",
       "      <td>57128.881547</td>\n",
       "      <td>9.125702e+06</td>\n",
       "    </tr>\n",
       "    <tr>\n",
       "      <th>4</th>\n",
       "      <td>184.730960</td>\n",
       "      <td>15.797812</td>\n",
       "      <td>2918.345014</td>\n",
       "      <td>38068.201283</td>\n",
       "      <td>6.303792e+06</td>\n",
       "    </tr>\n",
       "  </tbody>\n",
       "</table>\n",
       "</div>"
      ],
      "text/plain": [
       "   Temperature (°C)  Pressure (kPa)  Temperature x Pressure  \\\n",
       "0        209.762701        8.050855             1688.769167   \n",
       "1        243.037873       15.812068             3842.931469   \n",
       "2        220.552675        7.843130             1729.823314   \n",
       "3        208.976637       23.786089             4970.736918   \n",
       "4        184.730960       15.797812             2918.345014   \n",
       "\n",
       "   Material Fusion Metric  Material Transformation Metric  \n",
       "0            44522.217074                    9.229576e+06  \n",
       "1            63020.764997                    1.435537e+07  \n",
       "2            49125.950249                    1.072839e+07  \n",
       "3            57128.881547                    9.125702e+06  \n",
       "4            38068.201283                    6.303792e+06  "
      ]
     },
     "execution_count": 28,
     "metadata": {},
     "output_type": "execute_result"
    }
   ],
   "source": [
    "X_train = train_data.drop(columns='Quality Rating').astype('float64')\n",
    "y_train = train_data['Quality Rating'].astype('float64')\n",
    "X_test = test_data.astype('float64')\n",
    "X_train.head()\n"
   ]
  },
  {
   "cell_type": "code",
   "execution_count": null,
   "metadata": {},
   "outputs": [],
   "source": []
  }
 ],
 "metadata": {
  "kernelspec": {
   "display_name": "Python 3",
   "language": "python",
   "name": "python3"
  },
  "language_info": {
   "codemirror_mode": {
    "name": "ipython",
    "version": 3
   },
   "file_extension": ".py",
   "mimetype": "text/x-python",
   "name": "python",
   "nbconvert_exporter": "python",
   "pygments_lexer": "ipython3",
   "version": "3.10.12"
  }
 },
 "nbformat": 4,
 "nbformat_minor": 2
}

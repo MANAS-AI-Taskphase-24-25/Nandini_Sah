{
 "cells": [
  {
   "cell_type": "code",
   "execution_count": 67,
   "metadata": {},
   "outputs": [],
   "source": [
    "import pandas as pd\n",
    "import numpy as np\n",
    "import matplotlib.pyplot as plt"
   ]
  },
  {
   "cell_type": "code",
   "execution_count": 68,
   "metadata": {},
   "outputs": [],
   "source": [
    "train_data = pd.read_csv(\"Train.csv\")\n",
    "test_data = pd.read_csv(\"Test.csv\")"
   ]
  },
  {
   "cell_type": "markdown",
   "metadata": {},
   "source": [
    "# A look at the data"
   ]
  },
  {
   "cell_type": "code",
   "execution_count": 69,
   "metadata": {},
   "outputs": [
    {
     "name": "stdout",
     "output_type": "stream",
     "text": [
      "This is the training data\n"
     ]
    },
    {
     "data": {
      "text/html": [
       "<div>\n",
       "<style scoped>\n",
       "    .dataframe tbody tr th:only-of-type {\n",
       "        vertical-align: middle;\n",
       "    }\n",
       "\n",
       "    .dataframe tbody tr th {\n",
       "        vertical-align: top;\n",
       "    }\n",
       "\n",
       "    .dataframe thead th {\n",
       "        text-align: right;\n",
       "    }\n",
       "</style>\n",
       "<table border=\"1\" class=\"dataframe\">\n",
       "  <thead>\n",
       "    <tr style=\"text-align: right;\">\n",
       "      <th></th>\n",
       "      <th>Unnamed: 0</th>\n",
       "      <th>Name</th>\n",
       "      <th>Location</th>\n",
       "      <th>Year</th>\n",
       "      <th>Kilometers_Driven</th>\n",
       "      <th>Fuel_Type</th>\n",
       "      <th>Transmission</th>\n",
       "      <th>Owner_Type</th>\n",
       "      <th>Mileage</th>\n",
       "      <th>Engine</th>\n",
       "      <th>Power</th>\n",
       "      <th>Seats</th>\n",
       "      <th>Price</th>\n",
       "    </tr>\n",
       "  </thead>\n",
       "  <tbody>\n",
       "    <tr>\n",
       "      <th>0</th>\n",
       "      <td>0</td>\n",
       "      <td>Tata Tiago 1.2 Revotron XZ WO Alloy</td>\n",
       "      <td>Hyderabad</td>\n",
       "      <td>2017</td>\n",
       "      <td>16500</td>\n",
       "      <td>Petrol</td>\n",
       "      <td>Manual</td>\n",
       "      <td>First</td>\n",
       "      <td>23.84 kmpl</td>\n",
       "      <td>1199 CC</td>\n",
       "      <td>84 bhp</td>\n",
       "      <td>5.0</td>\n",
       "      <td>5.00</td>\n",
       "    </tr>\n",
       "    <tr>\n",
       "      <th>1</th>\n",
       "      <td>1</td>\n",
       "      <td>Mahindra TUV 300 2015-2019 mHAWK100 T8 AMT</td>\n",
       "      <td>Kochi</td>\n",
       "      <td>2017</td>\n",
       "      <td>47357</td>\n",
       "      <td>Diesel</td>\n",
       "      <td>Automatic</td>\n",
       "      <td>First</td>\n",
       "      <td>18.49 kmpl</td>\n",
       "      <td>1493 CC</td>\n",
       "      <td>100 bhp</td>\n",
       "      <td>7.0</td>\n",
       "      <td>8.37</td>\n",
       "    </tr>\n",
       "    <tr>\n",
       "      <th>2</th>\n",
       "      <td>2</td>\n",
       "      <td>Skoda Rapid 2013-2016 1.6 MPI Ambition</td>\n",
       "      <td>Mumbai</td>\n",
       "      <td>2014</td>\n",
       "      <td>35000</td>\n",
       "      <td>Petrol</td>\n",
       "      <td>Manual</td>\n",
       "      <td>First</td>\n",
       "      <td>15.0 kmpl</td>\n",
       "      <td>1598 CC</td>\n",
       "      <td>103.52 bhp</td>\n",
       "      <td>5.0</td>\n",
       "      <td>4.50</td>\n",
       "    </tr>\n",
       "    <tr>\n",
       "      <th>3</th>\n",
       "      <td>3</td>\n",
       "      <td>Tata Indica V2 DLS BSII</td>\n",
       "      <td>Jaipur</td>\n",
       "      <td>2007</td>\n",
       "      <td>200000</td>\n",
       "      <td>Diesel</td>\n",
       "      <td>Manual</td>\n",
       "      <td>Second</td>\n",
       "      <td>17.2 kmpl</td>\n",
       "      <td>1396 CC</td>\n",
       "      <td>53.5 bhp</td>\n",
       "      <td>5.0</td>\n",
       "      <td>0.85</td>\n",
       "    </tr>\n",
       "    <tr>\n",
       "      <th>4</th>\n",
       "      <td>4</td>\n",
       "      <td>Tata Manza Club Class Quadrajet90 LX</td>\n",
       "      <td>Mumbai</td>\n",
       "      <td>2013</td>\n",
       "      <td>64000</td>\n",
       "      <td>Diesel</td>\n",
       "      <td>Manual</td>\n",
       "      <td>Second</td>\n",
       "      <td>21.02 kmpl</td>\n",
       "      <td>1248 CC</td>\n",
       "      <td>88.76 bhp</td>\n",
       "      <td>5.0</td>\n",
       "      <td>2.65</td>\n",
       "    </tr>\n",
       "  </tbody>\n",
       "</table>\n",
       "</div>"
      ],
      "text/plain": [
       "   Unnamed: 0                                        Name   Location  Year  \\\n",
       "0           0         Tata Tiago 1.2 Revotron XZ WO Alloy  Hyderabad  2017   \n",
       "1           1  Mahindra TUV 300 2015-2019 mHAWK100 T8 AMT      Kochi  2017   \n",
       "2           2      Skoda Rapid 2013-2016 1.6 MPI Ambition     Mumbai  2014   \n",
       "3           3                     Tata Indica V2 DLS BSII     Jaipur  2007   \n",
       "4           4        Tata Manza Club Class Quadrajet90 LX     Mumbai  2013   \n",
       "\n",
       "   Kilometers_Driven Fuel_Type Transmission Owner_Type     Mileage   Engine  \\\n",
       "0              16500    Petrol       Manual      First  23.84 kmpl  1199 CC   \n",
       "1              47357    Diesel    Automatic      First  18.49 kmpl  1493 CC   \n",
       "2              35000    Petrol       Manual      First   15.0 kmpl  1598 CC   \n",
       "3             200000    Diesel       Manual     Second   17.2 kmpl  1396 CC   \n",
       "4              64000    Diesel       Manual     Second  21.02 kmpl  1248 CC   \n",
       "\n",
       "        Power  Seats  Price  \n",
       "0      84 bhp    5.0   5.00  \n",
       "1     100 bhp    7.0   8.37  \n",
       "2  103.52 bhp    5.0   4.50  \n",
       "3    53.5 bhp    5.0   0.85  \n",
       "4   88.76 bhp    5.0   2.65  "
      ]
     },
     "execution_count": 69,
     "metadata": {},
     "output_type": "execute_result"
    }
   ],
   "source": [
    "print(\"This is the training data\")\n",
    "train_data.head()"
   ]
  },
  {
   "cell_type": "markdown",
   "metadata": {},
   "source": [
    "## The following function converts a string containing a number into a floating-point number."
   ]
  },
  {
   "cell_type": "code",
   "execution_count": null,
   "metadata": {},
   "outputs": [],
   "source": [
    "def extract(value):\n",
    "    try:\n",
    "        return float(value.split()[0])\n",
    "    except:\n",
    "        return np.nan"
   ]
  },
  {
   "cell_type": "markdown",
   "metadata": {},
   "source": [
    "This code applies the extract fn on the data columns and removes any rows with missing values across columns"
   ]
  },
  {
   "cell_type": "code",
   "execution_count": 71,
   "metadata": {},
   "outputs": [],
   "source": [
    "for i in ['Mileage', 'Engine', 'Power']:\n",
    "    train_data[i] = train_data[i].apply(extract)\n",
    "train_data = train_data.dropna()"
   ]
  },
  {
   "cell_type": "markdown",
   "metadata": {},
   "source": [
    "This code stores the specific data columns as inputs and Price as output"
   ]
  },
  {
   "cell_type": "code",
   "execution_count": 72,
   "metadata": {},
   "outputs": [],
   "source": [
    "xf = ['Year', 'Kilometers_Driven', 'Mileage', 'Engine', 'Power', 'Seats']\n",
    "X_train = train_data[xf].values\n",
    "y_train = train_data['Price'].values"
   ]
  },
  {
   "cell_type": "markdown",
   "metadata": {},
   "source": [
    "The following normalizes the inputs of the model between 0 and 1"
   ]
  },
  {
   "cell_type": "code",
   "execution_count": 73,
   "metadata": {},
   "outputs": [],
   "source": [
    "X_train_min = X_train.min(axis=0)\n",
    "X_train_max = X_train.max(axis=0)\n",
    "X_train = (X_train - X_train_min) / (X_train_max - X_train_min)\n",
    "# X_test = (X_test - X_train_min) / (X_train_max - X_train_min) # rescaled using the same values as train model for consistency"
   ]
  },
  {
   "cell_type": "markdown",
   "metadata": {},
   "source": [
    "This code initializes values for a linear regression model"
   ]
  },
  {
   "cell_type": "code",
   "execution_count": 74,
   "metadata": {},
   "outputs": [],
   "source": [
    "#seed helps in generating the same random values each time ensuring reproducibility in code\n",
    "np.random.seed(0)   \n",
    "weights = np.random.rand(X_train.shape[1]) # assigning weights to every input helps you find how much each input contributes to the ouptut\n",
    "bias = 0.0 # gets updated during the training\n",
    "learning_rate = 0.01 # determines how much weights change during training\n",
    "num_iterations = 10000 # specifies the number of iterations\n",
    "m = len(y_train) # stores the number of training examples. Training example is a single data point from the training dataset which is used to teach the model "
   ]
  },
  {
   "cell_type": "markdown",
   "metadata": {},
   "source": [
    "Gradient Descent code to train the linear regression model"
   ]
  },
  {
   "cell_type": "code",
   "execution_count": 75,
   "metadata": {},
   "outputs": [],
   "source": [
    "# Gradient Descent\n",
    "for i in range(num_iterations): # runs for a pre-defined \"num_iterations\" times\n",
    "    y_pred = np.dot(X_train, weights) + bias # calculates the predicted output for each training example\n",
    "    error = y_pred - y_train # calculates the difference between the predicted values and the actual target\n",
    "\n",
    "    weights_gradient = (2/m) * np.dot(X_train.T, error) # gradient tells us the direction and magnitude to adjust each weight to reduce the error.\n",
    "    bias_gradient = (2/m) * np.sum(error) # tells how much to change the bais to improve predictions\n",
    "\n",
    "    weights -= learning_rate * weights_gradient \n",
    "    bias -= learning_rate * bias_gradient   \n",
    "\n",
    "y_train_pred = np.dot(X_train, weights) + bias"
   ]
  },
  {
   "cell_type": "markdown",
   "metadata": {},
   "source": [
    "Deals with any NaN values in the predicted and the actual outputs"
   ]
  },
  {
   "cell_type": "code",
   "execution_count": 76,
   "metadata": {},
   "outputs": [],
   "source": [
    "if np.isnan(y_train).any() or np.isnan(y_train_pred).any(): \n",
    "    y_train = np.nan_to_num(y_train, nan=np.nanmean(y_train)) \n",
    "    y_train_pred = np.nan_to_num(y_train_pred, nan=np.nanmean(y_train_pred))"
   ]
  },
  {
   "cell_type": "markdown",
   "metadata": {},
   "source": [
    "Calculates different evaluation metrics for regression models"
   ]
  },
  {
   "cell_type": "code",
   "execution_count": null,
   "metadata": {},
   "outputs": [],
   "source": [
    "mae = np.mean(np.abs(y_train-y_train_pred))\n",
    "mse = np.mean((y_train-y_train_pred) ** 2)\n",
    "rmse = np.sqrt(mse)"
   ]
  },
  {
   "cell_type": "markdown",
   "metadata": {},
   "source": [
    "Calculates the R-squared value for checking a linear regression model"
   ]
  },
  {
   "cell_type": "code",
   "execution_count": 78,
   "metadata": {},
   "outputs": [],
   "source": [
    "y_mean = np.mean(y_train)\n",
    "total = np.sum((y_train-y_mean)**2)\n",
    "residual = np.sum((y_train-y_train_pred)**2)\n",
    "r2 = 1-(residual / total)"
   ]
  },
  {
   "cell_type": "code",
   "execution_count": 79,
   "metadata": {},
   "outputs": [
    {
     "name": "stdout",
     "output_type": "stream",
     "text": [
      "Mean Absolute Error (MAE): 3.98800048268129\n",
      "Mean Squared Error (MSE): 42.927333871838535\n",
      "Root Mean Squared Error (RMSE): 6.551895441155829\n",
      "R-squared (R²): 0.6623040709526522\n"
     ]
    }
   ],
   "source": [
    "print(\"Mean Absolute Error (MAE):\", mae)\n",
    "print(\"Mean Squared Error (MSE):\", mse)\n",
    "print(\"Root Mean Squared Error (RMSE):\", rmse)\n",
    "print(\"R-squared (R²):\", r2)"
   ]
  }
 ],
 "metadata": {
  "kernelspec": {
   "display_name": "Python 3",
   "language": "python",
   "name": "python3"
  },
  "language_info": {
   "codemirror_mode": {
    "name": "ipython",
    "version": 3
   },
   "file_extension": ".py",
   "mimetype": "text/x-python",
   "name": "python",
   "nbconvert_exporter": "python",
   "pygments_lexer": "ipython3",
   "version": "3.10.12"
  }
 },
 "nbformat": 4,
 "nbformat_minor": 2
}
